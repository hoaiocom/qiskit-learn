{
 "cells": [
  {
   "cell_type": "markdown",
   "id": "77aa2d6f-2ec3-43fb-89ff-c3e9bd764401",
   "metadata": {},
   "source": [
    "# Quantum Counting\n",
    "Whereas Grover’s algorithm attempts to find a solution to the Oracle, the quantum counting algorithm tells us how many of these solutions there are. This algorithm is interesting as it combines both quantum search and quantum phase estimation.\n"
   ]
  },
  {
   "cell_type": "code",
   "execution_count": 1,
   "id": "6acdc4dd-8d49-49b0-a277-5148bf284a09",
   "metadata": {},
   "outputs": [],
   "source": [
    "from qiskit import *\n",
    "import numpy as np\n",
    "from math import pi, sqrt\n",
    "import random\n",
    "import time\n",
    "\n",
    "from qiskit.visualization import array_to_latex\n",
    "from qiskit.visualization import plot_histogram\n",
    "from qiskit_textbook.tools import random_state"
   ]
  },
  {
   "cell_type": "code",
   "execution_count": 2,
   "id": "8f5c6453-c39f-40d3-81f6-65e94450c73b",
   "metadata": {},
   "outputs": [],
   "source": [
    "backend = Aer.get_backend('statevector_simulator')\n",
    "def getBloch(quantumCircuit):\n",
    "    return visualization.plot_bloch_multivector(execute(quantumCircuit, backend).result().get_statevector())"
   ]
  },
  {
   "cell_type": "code",
   "execution_count": 3,
   "id": "9019dded-0137-47cf-91d2-96f8af8274ec",
   "metadata": {},
   "outputs": [],
   "source": [
    "def stateGenerator(state):\n",
    "    state = state[::-1]\n",
    "    current = int(state, 2)\n",
    "#     print('Current state: ', current)\n",
    "    newState = [0 for i in range(0, 2**(len(state)))]\n",
    "    newState[current] = 1\n",
    "#     print('Init state array: ',newState)\n",
    "    return newState"
   ]
  },
  {
   "cell_type": "code",
   "execution_count": 4,
   "id": "04a494ce-286d-4932-83f7-7c95bdce6ba8",
   "metadata": {},
   "outputs": [],
   "source": [
    "def getMeasure(quantumCircuit, n):\n",
    "    measures = []\n",
    "    for i in range(0,n):\n",
    "        outcome = execute(quantumCircuit, backend).result()\n",
    "        hist = outcome.get_counts()\n",
    "        for i in hist.keys():\n",
    "            measures.append(i)\n",
    "    return measures"
   ]
  },
  {
   "cell_type": "code",
   "execution_count": 5,
   "id": "6cf971e4-8a51-4a84-870b-0b633fef9fc4",
   "metadata": {},
   "outputs": [],
   "source": [
    "def makeCirc(n, state):\n",
    "    initState = state\n",
    "    print('Init state = ',initState)\n",
    "    qr = QuantumRegister(n,\"q\")\n",
    "    qc = ClassicalRegister(n, \"c\")\n",
    "    circ = QuantumCircuit(qr, qc)\n",
    "    initializedState = stateGenerator(initState)\n",
    "    circ.initialize(initializedState, qr)\n",
    "    return circ"
   ]
  },
  {
   "cell_type": "code",
   "execution_count": 6,
   "id": "6a827e2a-56ef-4a0f-b607-ec3e7d1d2b2d",
   "metadata": {},
   "outputs": [],
   "source": [
    "def getHistogram(n, circ):\n",
    "    qasm_sim = Aer.get_backend('qasm_simulator')\n",
    "    shots = n\n",
    "    qboj = assemble(circ, shots=shots)\n",
    "    results = qasm_sim.run(qboj).result()\n",
    "    counts = results.get_counts()\n",
    "    return counts"
   ]
  },
  {
   "cell_type": "code",
   "execution_count": 7,
   "id": "b3e1cdd4-4c08-4fd6-8089-6cf6cc21d322",
   "metadata": {},
   "outputs": [],
   "source": [
    "def getPTrace(quantumCircuit, n):\n",
    "    return quantum_info.partial_trace(execute(quantumCircuit, backend).result().get_statevector(), n)"
   ]
  },
  {
   "cell_type": "code",
   "execution_count": 8,
   "id": "0cb176ab-f990-4eaf-897e-4d894cf494c4",
   "metadata": {},
   "outputs": [],
   "source": [
    "def cccZ():\n",
    "    #Triple Control Z Rotation\n",
    "    # Rotate on the Z axis when 3 controlled qubit are 1\n",
    "    qc = QuantumCircuit(4)\n",
    "    qc.cp(pi/4, 0, 3)\n",
    "    qc.cx(0, 1)\n",
    "    qc.cp(-pi/4, 1, 3)\n",
    "    qc.cx(0, 1)\n",
    "    qc.cp(pi/4, 1, 3)\n",
    "    qc.cx(1, 2)\n",
    "    qc.cp(-pi/4, 2, 3)\n",
    "    qc.cx(0, 2)\n",
    "    qc.cp(pi/4, 2, 3)\n",
    "    qc.cx(1, 2)\n",
    "    qc.cp(-pi/4, 2, 3)\n",
    "    qc.cx(0, 2)\n",
    "    qc.cp(pi/4, 2, 3)\n",
    "    gate = qc.to_gate(label=' cccZ')\n",
    "    return gate"
   ]
  },
  {
   "cell_type": "code",
   "execution_count": 9,
   "id": "fe1a786c-56b3-47ef-8352-ac4695588b4f",
   "metadata": {},
   "outputs": [],
   "source": [
    "def groverDiffusionOp():\n",
    "    #Inversion along the mean\n",
    "    circ = QuantumCircuit(4)\n",
    "    circ.h(range(4))\n",
    "    circ.x(range(4))\n",
    "    circ.append(cccZ(), [0, 1, 2, 3])\n",
    "    circ.x(range(4))\n",
    "    circ.h(range(4))\n",
    "    gate = circ.to_gate(label=\" Diffusion\")\n",
    "    return gate"
   ]
  },
  {
   "cell_type": "code",
   "execution_count": 10,
   "id": "d10a203d-cb8f-4b3d-94cd-62f4e6ba996a",
   "metadata": {},
   "outputs": [],
   "source": [
    "def groverOracle(n):\n",
    "    #Takes in 4-bit string and returns Gate\n",
    "    #Grover Oracle\n",
    "    #Inversion\n",
    "    circ = QuantumCircuit(4)\n",
    "    if (n[3] != str(1)):\n",
    "        circ.x(0)\n",
    "    if (n[2] != str(1)):\n",
    "        circ.x(1)\n",
    "    if (n[1] != str(1)):\n",
    "        circ.x(2)\n",
    "    if (n[0] != str(1)):\n",
    "        circ.x(3)\n",
    "    circ.append(cccZ(), [0, 1, 2, 3])\n",
    "    if (n[3] != str(1)):\n",
    "        circ.x(0)\n",
    "    if (n[2] != str(1)):\n",
    "        circ.x(1)\n",
    "    if (n[1] != str(1)):\n",
    "        circ.x(2)\n",
    "    if (n[0] != str(1)):\n",
    "        circ.x(3)\n",
    "    gate = circ.to_gate(label=' Grover Oracle')\n",
    "    return gate"
   ]
  },
  {
   "cell_type": "code",
   "execution_count": 11,
   "id": "1b86785e-1702-43f6-a238-7c0c1210e332",
   "metadata": {},
   "outputs": [],
   "source": [
    "def groverIterate(inp):\n",
    "    circ = QuantumCircuit(4)\n",
    "    circ.append(groverOracle(inp), [0, 1, 2, 3])\n",
    "    circ.append(groverDiffusionOp(), [0, 1, 2, 3])\n",
    "    gate = circ.to_gate(label = ' Grover Iterate')\n",
    "    return gate"
   ]
  },
  {
   "cell_type": "code",
   "execution_count": 33,
   "id": "075d1582-c368-4fbb-aee4-8964481ecc40",
   "metadata": {},
   "outputs": [],
   "source": [
    "cgrit = groverIterate('0000').control()"
   ]
  },
  {
   "cell_type": "code",
   "execution_count": 34,
   "id": "c421d87f-daad-4112-8dc7-66d865dafc43",
   "metadata": {},
   "outputs": [],
   "source": [
    "def qft(n):\n",
    "    \"\"\"Creates an n-qubit QFT circuit\"\"\"\n",
    "    circuit = QuantumCircuit(4)\n",
    "    def swap_registers(circuit, n):\n",
    "        for qubit in range(n//2):\n",
    "            circuit.swap(qubit, n-qubit-1)\n",
    "        return circuit\n",
    "    def qft_rotations(circuit, n):\n",
    "        \"\"\"Performs qft on the first n qubits in circuit (without swaps)\"\"\"\n",
    "        if n == 0:\n",
    "            return circuit\n",
    "        n -= 1\n",
    "        circuit.h(n)\n",
    "        for qubit in range(n):\n",
    "            circuit.cp(np.pi/2**(n-qubit), qubit, n)\n",
    "        qft_rotations(circuit, n)\n",
    "    \n",
    "    qft_rotations(circuit, n)\n",
    "    swap_registers(circuit, n)\n",
    "    return circuit"
   ]
  },
  {
   "cell_type": "code",
   "execution_count": 35,
   "id": "ecbe6145-2059-4912-ba85-bbb658d20bb7",
   "metadata": {},
   "outputs": [],
   "source": [
    "qft_dagger = qft(4).to_gate().inverse()\n",
    "qft_dagger.label = \"QFT†\""
   ]
  },
  {
   "cell_type": "code",
   "execution_count": 36,
   "id": "38a38699-eac6-44d4-a0f7-f429f6182d60",
   "metadata": {},
   "outputs": [
    {
     "data": {
      "image/png": "[encoded data removed]",
      "text/plain": [
       "<Figure size 3217x565.88 with 1 Axes>"
      ]
     },
     "metadata": {},
     "output_type": "display_data"
    }
   ],
   "source": [
    "# Create QuantumCircuit\n",
    "t = 4   # no. of counting qubits\n",
    "n = 4   # no. of searching qubits\n",
    "qc = QuantumCircuit(n+t, t) # Circuit with n+t qubits and t classical bits\n",
    "\n",
    "# Initialize all qubits to |+>\n",
    "for qubit in range(t+n):\n",
    "    qc.h(qubit)\n",
    "\n",
    "# Begin controlled Grover iterations\n",
    "iterations = 1\n",
    "for qubit in range(t):\n",
    "    for i in range(iterations):\n",
    "        qc.append(cgrit, [qubit] + [*range(t, n+t)])\n",
    "    iterations *= 2\n",
    "    \n",
    "# Do inverse QFT on counting qubits\n",
    "qc.append(qft_dagger, range(t))\n",
    "\n",
    "# Measure counting qubits\n",
    "qc.measure(range(t), range(t))\n",
    "\n",
    "# Display the circuit\n",
    "qc.draw(fold=-1);"
   ]
  },
  {
   "cell_type": "code",
   "execution_count": 37,
   "id": "15ecd160-2636-4183-85cc-c821edbae712",
   "metadata": {},
   "outputs": [
    {
     "data": {
      "image/png": "[encoded data removed]",
      "text/plain": [
       "<Figure size 504x360 with 1 Axes>"
      ]
     },
     "metadata": {
      "needs_background": "light"
     },
     "output_type": "display_data"
    }
   ],
   "source": [
    "# Execute and see results\n",
    "aer_sim = Aer.get_backend('aer_simulator')\n",
    "transpiled_qc = transpile(qc, aer_sim)\n",
    "qobj = assemble(transpiled_qc)\n",
    "job = aer_sim.run(qobj)\n",
    "hist = job.result().get_counts()\n",
    "plot_histogram(hist);"
   ]
  },
  {
   "cell_type": "code",
   "execution_count": 38,
   "id": "3cd8d638-b8b5-4b3e-8182-bf0065909d6e",
   "metadata": {},
   "outputs": [],
   "source": [
    "measured_str = max(hist, key=hist.get)"
   ]
  },
  {
   "cell_type": "code",
   "execution_count": 39,
   "id": "758e9eef-35f6-4ca4-8692-3550cec4ca9d",
   "metadata": {},
   "outputs": [
    {
     "name": "stdout",
     "output_type": "stream",
     "text": [
      "Register Output = 9\n"
     ]
    }
   ],
   "source": [
    "measured_int = int(measured_str,2)\n",
    "print(\"Register Output = %i\" % measured_int)"
   ]
  },
  {
   "cell_type": "code",
   "execution_count": 40,
   "id": "cdfcd3de-d05e-46ea-ab3c-2c22904af3df",
   "metadata": {},
   "outputs": [
    {
     "name": "stdout",
     "output_type": "stream",
     "text": [
      "Theta = 3.53429\n"
     ]
    }
   ],
   "source": [
    "theta = (measured_int/(2**t))*pi*2\n",
    "print(\"Theta = %.5f\" % theta)"
   ]
  },
  {
   "cell_type": "code",
   "execution_count": 41,
   "id": "2f9dce07-5ee8-4139-b4f0-70b7fcd55c13",
   "metadata": {},
   "outputs": [],
   "source": [
    "from math import sin"
   ]
  },
  {
   "cell_type": "code",
   "execution_count": 42,
   "id": "f6a68e1a-0a69-404c-89b4-5b6896a3cc48",
   "metadata": {},
   "outputs": [
    {
     "name": "stdout",
     "output_type": "stream",
     "text": [
      "No. of Solutions = 0.6\n"
     ]
    }
   ],
   "source": [
    "N = 2**n\n",
    "M = N * (sin(theta/2)**2)\n",
    "print(\"No. of Solutions = %.1f\" % (N-M))"
   ]
  },
  {
   "cell_type": "code",
   "execution_count": 43,
   "id": "25f9dc08-d1ce-431e-b8a1-23bd3cc76131",
   "metadata": {},
   "outputs": [
    {
     "name": "stdout",
     "output_type": "stream",
     "text": [
      "Error < 2.90\n"
     ]
    }
   ],
   "source": [
    "m = t - 1 # Upper bound: Will be less than this \n",
    "err = (sqrt(2*M*N) + N/(2**(m+1)))*(2**(-m))\n",
    "print(\"Error < %.2f\" % err)"
   ]
  },
  {
   "cell_type": "code",
   "execution_count": 44,
   "id": "5591cba2-3596-4ce3-8986-a411f505ba7a",
   "metadata": {},
   "outputs": [],
   "source": [
    "def calculate_M(measured_int, t, n):\n",
    "    \"\"\"For Processing Output of Quantum Counting\"\"\"\n",
    "    # Calculate Theta\n",
    "    theta = (measured_int/(2**t))*math.pi*2\n",
    "    print(\"Theta = %.5f\" % theta)\n",
    "    # Calculate No. of Solutions\n",
    "    N = 2**n\n",
    "    M = N * (math.sin(theta/2)**2)\n",
    "    print(\"No. of Solutions = %.1f\" % (N-M))\n",
    "    # Calculate Upper Error Bound\n",
    "    m = t - 1 #Will be less than this (out of scope) \n",
    "    err = (math.sqrt(2*M*N) + N/(2**(m+1)))*(2**(-m))\n",
    "    print(\"Error < %.2f\" % err)"
   ]
  },
  {
   "cell_type": "code",
   "execution_count": null,
   "id": "c80916cb-50dd-4551-9dfc-9e55c266cd2a",
   "metadata": {},
   "outputs": [],
   "source": []
  },
  {
   "cell_type": "code",
   "execution_count": null,
   "id": "911c6b08-6668-4a38-b806-760f8b8c66bc",
   "metadata": {},
   "outputs": [],
   "source": []
  }
 ],
 "metadata": {
  "kernelspec": {
   "display_name": "Python 3 (ipykernel)",
   "language": "python",
   "name": "python3"
  },
  "language_info": {
   "codemirror_mode": {
    "name": "ipython",
    "version": 3
   },
   "file_extension": ".py",
   "mimetype": "text/x-python",
   "name": "python",
   "nbconvert_exporter": "python",
   "pygments_lexer": "ipython3",
   "version": "3.8.5"
  }
 },
 "nbformat": 4,
 "nbformat_minor": 5
}

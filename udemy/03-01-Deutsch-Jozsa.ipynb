{
 "cells": [
  {
   "cell_type": "markdown",
   "id": "77aa2d6f-2ec3-43fb-89ff-c3e9bd764401",
   "metadata": {},
   "source": [
    "# Deutsch-Jozsa Algorithm\n",
    "Determine a function is constant (f(0) = f(1)) or Balance (f(x) = x or f(x) = x+1 with one query"
   ]
  },
  {
   "cell_type": "code",
   "execution_count": 1,
   "id": "6acdc4dd-8d49-49b0-a277-5148bf284a09",
   "metadata": {},
   "outputs": [],
   "source": [
    "from qiskit import *\n",
    "import numpy as np\n",
    "from math import pi, sqrt\n",
    "import random"
   ]
  },
  {
   "cell_type": "code",
   "execution_count": 2,
   "id": "8f5c6453-c39f-40d3-81f6-65e94450c73b",
   "metadata": {},
   "outputs": [],
   "source": [
    "backend = Aer.get_backend('statevector_simulator')\n",
    "def getBloch(quantumCircuit):\n",
    "    return visualization.plot_bloch_multivector(execute(quantumCircuit, backend).result().get_statevector())"
   ]
  },
  {
   "cell_type": "code",
   "execution_count": 3,
   "id": "9019dded-0137-47cf-91d2-96f8af8274ec",
   "metadata": {},
   "outputs": [],
   "source": [
    "def stateGenerator(state):\n",
    "    state = state[::-1]\n",
    "    current = int(state, 2)\n",
    "#     print('Current state: ', current)\n",
    "    newState = [0 for i in range(0, 2**(len(state)))]\n",
    "    newState[current] = 1\n",
    "#     print('Init state array: ',newState)\n",
    "    return newState"
   ]
  },
  {
   "cell_type": "code",
   "execution_count": 4,
   "id": "04a494ce-286d-4932-83f7-7c95bdce6ba8",
   "metadata": {},
   "outputs": [],
   "source": [
    "def getMeasure(quantumCircuit, n):\n",
    "    measures = []\n",
    "    for i in range(0,n):\n",
    "        outcome = execute(quantumCircuit, backend).result()\n",
    "        hist = outcome.get_counts()\n",
    "        for i in hist.keys():\n",
    "            measures.append(i)\n",
    "        return measures"
   ]
  },
  {
   "cell_type": "code",
   "execution_count": 60,
   "id": "6cf971e4-8a51-4a84-870b-0b633fef9fc4",
   "metadata": {},
   "outputs": [],
   "source": [
    "def makeCirc(n, state):\n",
    "    initState = state\n",
    "    print('Init state = ',initState)\n",
    "    qr = QuantumRegister(n,\"q\")\n",
    "    qc = ClassicalRegister(n, \"c\")\n",
    "    circ = QuantumCircuit(qr, qc)\n",
    "    initializedState = stateGenerator(initState)\n",
    "    circ.initialize(initializedState, qr)\n",
    "    return circ"
   ]
  },
  {
   "cell_type": "code",
   "execution_count": null,
   "id": "6a827e2a-56ef-4a0f-b607-ec3e7d1d2b2d",
   "metadata": {},
   "outputs": [],
   "source": []
  },
  {
   "cell_type": "markdown",
   "id": "8c26c7d5-fe25-4556-9d05-d0fbfdfe8fd6",
   "metadata": {},
   "source": [
    "## Oracle"
   ]
  },
  {
   "cell_type": "code",
   "execution_count": 91,
   "id": "9fdcf737-2fdf-445a-86eb-9f33959b782e",
   "metadata": {},
   "outputs": [],
   "source": [
    "def getOracle(cb = None):\n",
    "    if cb == \"constant\":\n",
    "        typeO = random.randint(0,2)\n",
    "    elif cb == \"balanced\":\n",
    "        typeO = random.randint(2,4)\n",
    "    else:\n",
    "        typeO = random.randint(0,4)\n",
    "    circ = QuantumCircuit(2)\n",
    "    if typeO == 0:\n",
    "        print('Initialize Constant function f(x) = 0')\n",
    "        pass\n",
    "    elif typeO == 1:\n",
    "        print('Initialize Constant function f(x) = 1')\n",
    "        circ.cx(0,1)\n",
    "        circ.x(0)\n",
    "        circ.cx(0,1)\n",
    "    elif typeO == 2:\n",
    "        print('Initialize Balanced function f(x) = x')\n",
    "        circ.cx(0,1)\n",
    "    else:\n",
    "        print('Initialize Balanced function f(x) = x+1')\n",
    "        circ.x(0)\n",
    "        circ.cx(0,1)\n",
    "    circ.draw();\n",
    "    oracle = circ.to_gate(label = ' Oracle')\n",
    "    return oracle"
   ]
  },
  {
   "cell_type": "markdown",
   "id": "c58c2839-9ce7-4723-afc7-9553ec7282d0",
   "metadata": {},
   "source": [
    "## Deutsch-Jozsa Algorithm"
   ]
  },
  {
   "cell_type": "code",
   "execution_count": 92,
   "id": "e628af98-ce5d-4461-b48e-c2dcc8c57f31",
   "metadata": {},
   "outputs": [],
   "source": [
    "def deutsch_jozsa(circ):\n",
    "    for i in range(0, 2):\n",
    "        circ.h(i)\n",
    "    circ.barrier()\n",
    "    \n",
    "    circ.append(getOracle(),[0,1])\n",
    "    \n",
    "    circ.barrier()\n",
    "    for i in range(0, 2):\n",
    "        circ.h(i)\n",
    "    \n",
    "    circ.measure(0, 0)\n",
    "    result = getMeasure(circ, 1)[0][1]\n",
    "    if result == '0':\n",
    "        print('Measure q(0) = {} => DJ predict this is Constant function'.format(result))\n",
    "    else:\n",
    "        print('Measure q(0) = {} => DJ predict this is Balanced function'.format(result))\n",
    "    return circ"
   ]
  },
  {
   "cell_type": "code",
   "execution_count": 96,
   "id": "e9810d41-dbf5-420d-a522-32683228dc45",
   "metadata": {},
   "outputs": [
    {
     "name": "stdout",
     "output_type": "stream",
     "text": [
      "Init state =  01\n",
      "Initialize Balanced function f(x) = x+1\n",
      "Measure q(0) = 1 => DJ predict this is Balanced function\n"
     ]
    },
    {
     "data": {
      "image/png": "[encoded data removed]",
      "text/plain": [
       "<Figure size 206.852x144.48 with 1 Axes>"
      ]
     },
     "metadata": {},
     "output_type": "display_data"
    }
   ],
   "source": [
    "qc = makeCirc(2, '01')\n",
    "circ = deutsch_jozsa(qc)"
   ]
  },
  {
   "cell_type": "code",
   "execution_count": 97,
   "id": "ed0da7a6-d346-4da5-9548-41b8ac388dca",
   "metadata": {},
   "outputs": [
    {
     "data": {
      "image/png": "[encoded data removed]",
      "text/plain": [
       "<Figure size 628.252x204.68 with 1 Axes>"
      ]
     },
     "metadata": {},
     "output_type": "display_data"
    }
   ],
   "source": [
    "circ.draw();"
   ]
  },
  {
   "cell_type": "code",
   "execution_count": 98,
   "id": "e0e18533-69e7-4d7a-be15-d61dea822ba9",
   "metadata": {},
   "outputs": [
    {
     "data": {
      "image/png": "[encoded data removed]",
      "text/plain": [
       "<Figure size 748.652x204.68 with 1 Axes>"
      ]
     },
     "metadata": {},
     "output_type": "display_data"
    }
   ],
   "source": [
    "circ.decompose().draw();"
   ]
  },
  {
   "cell_type": "code",
   "execution_count": null,
   "id": "d7142d72-dd3d-4f99-923f-84c80790fd46",
   "metadata": {},
   "outputs": [],
   "source": []
  }
 ],
 "metadata": {
  "kernelspec": {
   "display_name": "Python 3 (ipykernel)",
   "language": "python",
   "name": "python3"
  },
  "language_info": {
   "codemirror_mode": {
    "name": "ipython",
    "version": 3
   },
   "file_extension": ".py",
   "mimetype": "text/x-python",
   "name": "python",
   "nbconvert_exporter": "python",
   "pygments_lexer": "ipython3",
   "version": "3.8.5"
  }
 },
 "nbformat": 4,
 "nbformat_minor": 5
}

{
 "cells": [
  {
   "cell_type": "markdown",
   "id": "77aa2d6f-2ec3-43fb-89ff-c3e9bd764401",
   "metadata": {},
   "source": [
    "# Quantum ALU"
   ]
  },
  {
   "cell_type": "code",
   "execution_count": 3,
   "id": "6acdc4dd-8d49-49b0-a277-5148bf284a09",
   "metadata": {},
   "outputs": [],
   "source": [
    "from qiskit import *\n",
    "import numpy as np\n",
    "from math import pi, sqrt\n",
    "import random"
   ]
  },
  {
   "cell_type": "code",
   "execution_count": 4,
   "id": "8f5c6453-c39f-40d3-81f6-65e94450c73b",
   "metadata": {},
   "outputs": [],
   "source": [
    "backend = Aer.get_backend('statevector_simulator')\n",
    "def getBloch(quantumCircuit):\n",
    "    return visualization.plot_bloch_multivector(execute(quantumCircuit, backend).result().get_statevector())"
   ]
  },
  {
   "cell_type": "code",
   "execution_count": 5,
   "id": "9019dded-0137-47cf-91d2-96f8af8274ec",
   "metadata": {},
   "outputs": [],
   "source": [
    "def stateGenerator(state):\n",
    "    state = state[::-1]\n",
    "    current = int(state, 2)\n",
    "#     print('Current state: ', current)\n",
    "    newState = [0 for i in range(0, 2**(len(state)))]\n",
    "    newState[current] = 1\n",
    "#     print('Init state array: ',newState)\n",
    "    return newState"
   ]
  },
  {
   "cell_type": "code",
   "execution_count": 6,
   "id": "04a494ce-286d-4932-83f7-7c95bdce6ba8",
   "metadata": {},
   "outputs": [],
   "source": [
    "def getMeasure(quantumCircuit, n):\n",
    "    measures = []\n",
    "    for i in range(0,n):\n",
    "        outcome = execute(quantumCircuit, backend).result()\n",
    "        hist = outcome.get_counts()\n",
    "        for i in hist.keys():\n",
    "            measures.append(i)\n",
    "        return measures"
   ]
  },
  {
   "cell_type": "code",
   "execution_count": 7,
   "id": "6cf971e4-8a51-4a84-870b-0b633fef9fc4",
   "metadata": {},
   "outputs": [],
   "source": [
    "def makeCirc(n,op, inp):\n",
    "    initState = op + inp\n",
    "    print(initState)\n",
    "    qr = QuantumRegister(n)\n",
    "    cr = ClassicalRegister(n)\n",
    "    circ = QuantumCircuit(qr, cr)\n",
    "    initializedState = stateGenerator(initState)\n",
    "    circ.initialize(initializedState, qr)\n",
    "    return circ"
   ]
  },
  {
   "cell_type": "code",
   "execution_count": 8,
   "id": "3b5423fa-8f41-4c73-b7c4-5a666a6d28f5",
   "metadata": {},
   "outputs": [],
   "source": [
    "opLUT = {'+': '11000',\n",
    "         '-': '11100',\n",
    "         'xor': '10000',\n",
    "         'xnor': '10100',\n",
    "         'nop': '00000',\n",
    "         '+1': '11010',\n",
    "         '-1': '11111',\n",
    "         'neg': '00100',\n",
    "        }\n",
    "# Look up table - FPGA"
   ]
  },
  {
   "cell_type": "code",
   "execution_count": 9,
   "id": "b274cf2e-de49-4270-ad42-ce659da0ee88",
   "metadata": {},
   "outputs": [],
   "source": [
    "#ALU"
   ]
  },
  {
   "cell_type": "code",
   "execution_count": 14,
   "id": "3dbcadf0-5ea9-479f-9497-23aeba85f5bf",
   "metadata": {},
   "outputs": [],
   "source": [
    "def performOp(inp1, inp2, op):\n",
    "    circuit = makeCirc(7, opLUT[op], str(inp1) + str(inp2))\n",
    "    circuit.csx(0,6)\n",
    "    circuit.csx(5,6)\n",
    "    circuit.cx(0,5)\n",
    "    circuit.crx(-pi/2, 5, 6)\n",
    "    circuit.cx(0,5)\n",
    "    circuit.csx(1, 6)\n",
    "    circuit.csx(3, 6)\n",
    "    circuit.cx(1, 3)\n",
    "    circuit.crx(-pi/2, 3, 6)\n",
    "    circuit.cx(2, 6)\n",
    "    circuit.cx(4, 6)\n",
    "    circuit.measure(6,6)\n",
    "    return getMeasure(circuit, 1)[0][0]"
   ]
  },
  {
   "cell_type": "code",
   "execution_count": 20,
   "id": "ca05feda-0a62-445b-8495-bb7fe1ddcb63",
   "metadata": {},
   "outputs": [
    {
     "name": "stdout",
     "output_type": "stream",
     "text": [
      "1100011\n"
     ]
    },
    {
     "data": {
      "text/plain": [
       "'0'"
      ]
     },
     "execution_count": 20,
     "metadata": {},
     "output_type": "execute_result"
    }
   ],
   "source": [
    "performOp(1, 1, '+')"
   ]
  },
  {
   "cell_type": "code",
   "execution_count": 23,
   "id": "52db0466-08d2-46e4-9114-931c784970eb",
   "metadata": {},
   "outputs": [
    {
     "name": "stdout",
     "output_type": "stream",
     "text": [
      "1000001\n"
     ]
    },
    {
     "data": {
      "text/plain": [
       "'1'"
      ]
     },
     "execution_count": 23,
     "metadata": {},
     "output_type": "execute_result"
    }
   ],
   "source": [
    "performOp(0, 1, 'xor')"
   ]
  },
  {
   "cell_type": "code",
   "execution_count": 25,
   "id": "bcd11051-d510-4905-844e-67bc321c4327",
   "metadata": {},
   "outputs": [
    {
     "name": "stdout",
     "output_type": "stream",
     "text": [
      "1101010\n"
     ]
    },
    {
     "data": {
      "text/plain": [
       "'0'"
      ]
     },
     "execution_count": 25,
     "metadata": {},
     "output_type": "execute_result"
    }
   ],
   "source": [
    "performOp(1, 0, '+1')"
   ]
  }
 ],
 "metadata": {
  "kernelspec": {
   "display_name": "Python 3 (ipykernel)",
   "language": "python",
   "name": "python3"
  },
  "language_info": {
   "codemirror_mode": {
    "name": "ipython",
    "version": 3
   },
   "file_extension": ".py",
   "mimetype": "text/x-python",
   "name": "python",
   "nbconvert_exporter": "python",
   "pygments_lexer": "ipython3",
   "version": "3.8.5"
  }
 },
 "nbformat": 4,
 "nbformat_minor": 5
}

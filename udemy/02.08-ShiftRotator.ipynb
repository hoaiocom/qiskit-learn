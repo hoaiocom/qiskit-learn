{
 "cells": [
  {
   "cell_type": "markdown",
   "id": "77aa2d6f-2ec3-43fb-89ff-c3e9bd764401",
   "metadata": {},
   "source": [
    "# Quantum Shift and Rotator"
   ]
  },
  {
   "cell_type": "code",
   "execution_count": 1,
   "id": "6acdc4dd-8d49-49b0-a277-5148bf284a09",
   "metadata": {},
   "outputs": [],
   "source": [
    "from qiskit import *\n",
    "import numpy as np\n",
    "from math import pi, sqrt\n",
    "import random"
   ]
  },
  {
   "cell_type": "code",
   "execution_count": 2,
   "id": "8f5c6453-c39f-40d3-81f6-65e94450c73b",
   "metadata": {},
   "outputs": [],
   "source": [
    "backend = Aer.get_backend('statevector_simulator')\n",
    "def getBloch(quantumCircuit):\n",
    "    return visualization.plot_bloch_multivector(execute(quantumCircuit, backend).result().get_statevector())"
   ]
  },
  {
   "cell_type": "code",
   "execution_count": 3,
   "id": "9019dded-0137-47cf-91d2-96f8af8274ec",
   "metadata": {},
   "outputs": [],
   "source": [
    "def stateGenerator(state):\n",
    "    state = state[::-1]\n",
    "    current = int(state, 2)\n",
    "#     print('Current state: ', current)\n",
    "    newState = [0 for i in range(0, 2**(len(state)))]\n",
    "    newState[current] = 1\n",
    "#     print('Init state array: ',newState)\n",
    "    return newState"
   ]
  },
  {
   "cell_type": "code",
   "execution_count": 4,
   "id": "04a494ce-286d-4932-83f7-7c95bdce6ba8",
   "metadata": {},
   "outputs": [],
   "source": [
    "def getMeasure(quantumCircuit, n):\n",
    "    measures = []\n",
    "    for i in range(0,n):\n",
    "        outcome = execute(quantumCircuit, backend).result()\n",
    "        hist = outcome.get_counts()\n",
    "        for i in hist.keys():\n",
    "            measures.append(i)\n",
    "        return measures"
   ]
  },
  {
   "cell_type": "code",
   "execution_count": 5,
   "id": "6cf971e4-8a51-4a84-870b-0b633fef9fc4",
   "metadata": {},
   "outputs": [],
   "source": [
    "def makeCirc(n,num0, num1, inp=None):\n",
    "    initState = ''\n",
    "    for i in range(0, num1):\n",
    "        initState += str(1)\n",
    "    if inp != None:\n",
    "        initState = inp\n",
    "    else:\n",
    "        for i in range(0, n-num1-num0):\n",
    "            initState += str(random.randint(0, 1))\n",
    "    for i in range(0, num0):\n",
    "        initState += str(0)\n",
    "    print(initState)\n",
    "    qr = QuantumRegister(n)\n",
    "    cr = ClassicalRegister(n)\n",
    "    circ = QuantumCircuit(qr, cr)\n",
    "    initializedState = stateGenerator(initState)\n",
    "    circ.initialize(initializedState, qr)\n",
    "    return circ"
   ]
  },
  {
   "cell_type": "markdown",
   "id": "2976abbb-63a0-4c0b-8f33-0b1c83250106",
   "metadata": {},
   "source": [
    "## Shift"
   ]
  },
  {
   "cell_type": "code",
   "execution_count": 10,
   "id": "231062f7-826d-4356-bf0a-bb351b764c41",
   "metadata": {},
   "outputs": [],
   "source": [
    "def shifterCircuitMaker(n, inp=None):\n",
    "    shifterCircuit = makeCirc(n, 0, 1, inp)\n",
    "    for i in range(0, n-2):\n",
    "        shifterCircuit.cswap(0, i+1, i+2)\n",
    "    for i in range(0, n-1):\n",
    "        shifterCircuit.measure(i, i)\n",
    "    return shifterCircuit"
   ]
  },
  {
   "cell_type": "code",
   "execution_count": 11,
   "id": "80f89cce-f92f-44b1-a194-afccabfabc86",
   "metadata": {},
   "outputs": [
    {
     "name": "stdout",
     "output_type": "stream",
     "text": [
      "101001110101\n"
     ]
    }
   ],
   "source": [
    "shifterCircuit = shifterCircuitMaker(12)"
   ]
  },
  {
   "cell_type": "code",
   "execution_count": 12,
   "id": "f9721052-2f10-42ae-9228-acfe44dc06d6",
   "metadata": {},
   "outputs": [],
   "source": [
    "def applyShift(circ, n):\n",
    "    result= getMeasure(circ, 1)[0][::-1]\n",
    "    return shifterCircuitMaker(n, result)"
   ]
  },
  {
   "cell_type": "code",
   "execution_count": 13,
   "id": "80dcdade-3ef1-49a0-9efc-407dff8eab4c",
   "metadata": {},
   "outputs": [
    {
     "name": "stdout",
     "output_type": "stream",
     "text": [
      "110011101010\n",
      "100111010100\n",
      "101110101000\n",
      "111101010000\n",
      "111010100000\n",
      "110101000000\n",
      "101010000000\n",
      "110100000000\n",
      "101000000000\n",
      "110000000000\n"
     ]
    }
   ],
   "source": [
    "for i in range(0, 10):\n",
    "    shifterCircuit = applyShift(shifterCircuit, 12)"
   ]
  },
  {
   "cell_type": "markdown",
   "id": "705d72e1-b018-4824-8e4a-81cef31838b0",
   "metadata": {},
   "source": [
    "## Rotator"
   ]
  },
  {
   "cell_type": "code",
   "execution_count": 14,
   "id": "44692cf6-e41b-4ef2-9f01-ddc96aebf213",
   "metadata": {},
   "outputs": [],
   "source": [
    "def rotateCircuitMaker( n, inp=None):\n",
    "    rotateCircuit = makeCirc(n, 0, 1, inp)\n",
    "    for i in range(0, n-2):\n",
    "        rotateCircuit.cswap(0, i+1, i+2)\n",
    "    for i in range(0, n):\n",
    "        rotateCircuit.measure(i, i)\n",
    "    return rotateCircuit\n",
    "\n",
    "def applyRotate(circ, n):\n",
    "    result = getMeasure(circ, 1)[0][::-1]\n",
    "    return rotateCircuitMaker(n, result)"
   ]
  },
  {
   "cell_type": "code",
   "execution_count": 15,
   "id": "2421b52a-7169-454b-b9ef-69c5b3da2f86",
   "metadata": {},
   "outputs": [
    {
     "name": "stdout",
     "output_type": "stream",
     "text": [
      "110101100000\n"
     ]
    }
   ],
   "source": [
    "rotateCircuit = rotateCircuitMaker(12)"
   ]
  },
  {
   "cell_type": "code",
   "execution_count": 18,
   "id": "c641e223-248c-417c-bb33-b33c050a0265",
   "metadata": {},
   "outputs": [
    {
     "name": "stdout",
     "output_type": "stream",
     "text": [
      "101010110000\n",
      "110101100000\n",
      "101011000001\n",
      "110110000010\n",
      "101100000101\n",
      "111000001010\n",
      "110000010101\n",
      "100000101011\n",
      "100001010110\n",
      "100010101100\n"
     ]
    }
   ],
   "source": [
    "for i in range(0, 10):\n",
    "    rotateCircuit = applyRotate(rotateCircuit, 12)"
   ]
  },
  {
   "cell_type": "code",
   "execution_count": null,
   "id": "5e77ae91-99eb-4723-908e-7a818da0a4cb",
   "metadata": {},
   "outputs": [],
   "source": []
  }
 ],
 "metadata": {
  "kernelspec": {
   "display_name": "Python 3 (ipykernel)",
   "language": "python",
   "name": "python3"
  },
  "language_info": {
   "codemirror_mode": {
    "name": "ipython",
    "version": 3
   },
   "file_extension": ".py",
   "mimetype": "text/x-python",
   "name": "python",
   "nbconvert_exporter": "python",
   "pygments_lexer": "ipython3",
   "version": "3.8.5"
  }
 },
 "nbformat": 4,
 "nbformat_minor": 5
}

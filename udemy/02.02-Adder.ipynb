{
 "cells": [
  {
   "cell_type": "markdown",
   "id": "77aa2d6f-2ec3-43fb-89ff-c3e9bd764401",
   "metadata": {},
   "source": [
    "# Adder"
   ]
  },
  {
   "cell_type": "code",
   "execution_count": 1,
   "id": "6acdc4dd-8d49-49b0-a277-5148bf284a09",
   "metadata": {},
   "outputs": [],
   "source": [
    "from qiskit import *\n",
    "import numpy as np\n",
    "from math import pi, sqrt\n",
    "import random"
   ]
  },
  {
   "cell_type": "code",
   "execution_count": 2,
   "id": "8f5c6453-c39f-40d3-81f6-65e94450c73b",
   "metadata": {},
   "outputs": [],
   "source": [
    "backend = Aer.get_backend('statevector_simulator')\n",
    "def getBloch(quantumCircuit):\n",
    "    return visualization.plot_bloch_multivector(execute(quantumCircuit, backend).result().get_statevector())"
   ]
  },
  {
   "cell_type": "code",
   "execution_count": 3,
   "id": "9019dded-0137-47cf-91d2-96f8af8274ec",
   "metadata": {},
   "outputs": [],
   "source": [
    "def stateGenerator(state):\n",
    "    state = state[::-1]\n",
    "    current = int(state, 2)\n",
    "    print('Current state: ', current)\n",
    "    newState = [0 for i in range(0, 2**(len(state)))]\n",
    "    newState[current] = 1\n",
    "    print('Init state array: ',newState)\n",
    "    return newState"
   ]
  },
  {
   "cell_type": "code",
   "execution_count": 4,
   "id": "04a494ce-286d-4932-83f7-7c95bdce6ba8",
   "metadata": {},
   "outputs": [],
   "source": [
    "def getMeasure(quantumCircuit, n):\n",
    "    measures = []\n",
    "    for i in range(0,n):\n",
    "        outcome = execute(quantumCircuit, backend).result()\n",
    "        hist = outcome.get_counts()\n",
    "        for i in hist.keys():\n",
    "            measures.append(i)\n",
    "        return measures"
   ]
  },
  {
   "cell_type": "code",
   "execution_count": 23,
   "id": "6cf971e4-8a51-4a84-870b-0b633fef9fc4",
   "metadata": {},
   "outputs": [],
   "source": [
    "def makeCirc(n, m):\n",
    "    initState = ''\n",
    "    for i in range(0, n-m):\n",
    "        initState += str(random.randint(0, 1))\n",
    "    for i in range(0, m):\n",
    "        initState += str(0)\n",
    "    print(initState)\n",
    "    qr = QuantumRegister(n)\n",
    "    qc = ClassicalRegister(n)\n",
    "    circ = QuantumCircuit(qr, qc)\n",
    "    initializedState = stateGenerator(initState)\n",
    "    circ.initialize(initializedState, qr)\n",
    "    return circ"
   ]
  },
  {
   "cell_type": "code",
   "execution_count": 33,
   "id": "231062f7-826d-4356-bf0a-bb351b764c41",
   "metadata": {},
   "outputs": [
    {
     "name": "stdout",
     "output_type": "stream",
     "text": [
      "1000\n",
      "Current state:  1\n",
      "Init state array:  [0, 1, 0, 0, 0, 0, 0, 0, 0, 0, 0, 0, 0, 0, 0, 0]\n"
     ]
    }
   ],
   "source": [
    "circ = makeCirc(4, 1)"
   ]
  },
  {
   "cell_type": "code",
   "execution_count": 34,
   "id": "69d0ad02-5fa8-4279-8bf1-a86a992ae0eb",
   "metadata": {},
   "outputs": [],
   "source": [
    "circ.csx(1, 3)\n",
    "circ.cx(0, 1)\n",
    "circ.csx(2, 3)\n",
    "circ.csx(0, 3)\n",
    "circ.cx(1, 2)\n",
    "circ.crx(-pi/2, 2, 3)\n",
    "\n",
    "for i in range(0, 4):\n",
    "    circ.measure(i, i)"
   ]
  },
  {
   "cell_type": "code",
   "execution_count": 35,
   "id": "88f108b2-c01a-4978-892c-f5a45a22f900",
   "metadata": {},
   "outputs": [
    {
     "data": {
      "image/png": "[encoded data removed]",
      "text/plain": [
       "<Figure size 908.575x325.08 with 1 Axes>"
      ]
     },
     "execution_count": 35,
     "metadata": {},
     "output_type": "execute_result"
    }
   ],
   "source": [
    "circ.draw()"
   ]
  },
  {
   "cell_type": "code",
   "execution_count": 37,
   "id": "44ae6ced-af5b-4319-b10a-1318f67428d0",
   "metadata": {},
   "outputs": [
    {
     "data": {
      "text/plain": [
       "'1110'"
      ]
     },
     "execution_count": 37,
     "metadata": {},
     "output_type": "execute_result"
    }
   ],
   "source": [
    "getMeasure(circ, 1)[0][::-1]"
   ]
  },
  {
   "cell_type": "code",
   "execution_count": 22,
   "id": "c33442c6-ae08-4215-8cd9-fd89ac0667a4",
   "metadata": {},
   "outputs": [
    {
     "data": {
      "text/plain": [
       "<qiskit.circuit.instructionset.InstructionSet at 0x7f937847b310>"
      ]
     },
     "execution_count": 22,
     "metadata": {},
     "output_type": "execute_result"
    }
   ],
   "source": [
    "circ = QuantumCircuit(4)\n",
    "circ.csx(1, 3)\n",
    "circ.cx(0, 1)\n",
    "circ.csx(2, 3)\n",
    "circ.csx(0, 3)\n",
    "circ.cx(1, 2)\n",
    "circ.crx(-pi/2, 2, 3)"
   ]
  },
  {
   "cell_type": "code",
   "execution_count": 17,
   "id": "5cb2cb30-4772-4af3-8b92-aeb86f8b11ff",
   "metadata": {},
   "outputs": [],
   "source": [
    "fullAdder = circ.to_gate(label=' Adder')"
   ]
  },
  {
   "cell_type": "code",
   "execution_count": 18,
   "id": "9c675dac-546b-482e-abaf-dc91d73aff6d",
   "metadata": {},
   "outputs": [
    {
     "data": {
      "text/plain": [
       "<qiskit.circuit.instructionset.InstructionSet at 0x7f87b57a9730>"
      ]
     },
     "execution_count": 18,
     "metadata": {},
     "output_type": "execute_result"
    }
   ],
   "source": [
    "circ2 = QuantumCircuit(8)\n",
    "circ2.append(fullAdder, [0, 1, 2, 3])"
   ]
  },
  {
   "cell_type": "code",
   "execution_count": 19,
   "id": "e9eafed3-eb2a-4337-b880-e156cf82221e",
   "metadata": {},
   "outputs": [
    {
     "data": {
      "image/png": "[encoded data removed]",
      "text/plain": [
       "<Figure size 206.997x505.68 with 1 Axes>"
      ]
     },
     "metadata": {},
     "output_type": "display_data"
    }
   ],
   "source": [
    "circ2.draw();"
   ]
  },
  {
   "cell_type": "code",
   "execution_count": null,
   "id": "1537f4b2-2692-4f03-861b-944d303a1bef",
   "metadata": {},
   "outputs": [],
   "source": []
  }
 ],
 "metadata": {
  "interpreter": {
   "hash": "512f1e44aeca1b02df79116511341f55ec296619a646ca32b3bdd18cd3ab6c3e"
  },
  "kernelspec": {
   "display_name": "Python 3.8.5 64-bit ('base': conda)",
   "name": "python3"
  },
  "language_info": {
   "codemirror_mode": {
    "name": "ipython",
    "version": 3
   },
   "file_extension": ".py",
   "mimetype": "text/x-python",
   "name": "python",
   "nbconvert_exporter": "python",
   "pygments_lexer": "ipython3",
   "version": "3.8.5"
  }
 },
 "nbformat": 4,
 "nbformat_minor": 5
}

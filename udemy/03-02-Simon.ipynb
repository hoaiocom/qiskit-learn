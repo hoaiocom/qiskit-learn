{
 "cells": [
  {
   "cell_type": "markdown",
   "id": "77aa2d6f-2ec3-43fb-89ff-c3e9bd764401",
   "metadata": {},
   "source": [
    "# Simon Algorithm\n",
    "Find a secret s so that f(x) = f(y) if y = x+s"
   ]
  },
  {
   "cell_type": "code",
   "execution_count": 1,
   "id": "6acdc4dd-8d49-49b0-a277-5148bf284a09",
   "metadata": {},
   "outputs": [],
   "source": [
    "from qiskit import *\n",
    "import numpy as np\n",
    "from math import pi, sqrt\n",
    "import random\n",
    "from qiskit.visualization import plot_histogram\n",
    "from qiskit_textbook.tools import simon_oracle"
   ]
  },
  {
   "cell_type": "code",
   "execution_count": 2,
   "id": "8f5c6453-c39f-40d3-81f6-65e94450c73b",
   "metadata": {},
   "outputs": [],
   "source": [
    "backend = Aer.get_backend('statevector_simulator')\n",
    "def getBloch(quantumCircuit):\n",
    "    return visualization.plot_bloch_multivector(execute(quantumCircuit, backend).result().get_statevector())"
   ]
  },
  {
   "cell_type": "code",
   "execution_count": 3,
   "id": "9019dded-0137-47cf-91d2-96f8af8274ec",
   "metadata": {},
   "outputs": [],
   "source": [
    "def stateGenerator(state):\n",
    "    state = state[::-1]\n",
    "    current = int(state, 2)\n",
    "#     print('Current state: ', current)\n",
    "    newState = [0 for i in range(0, 2**(len(state)))]\n",
    "    newState[current] = 1\n",
    "#     print('Init state array: ',newState)\n",
    "    return newState"
   ]
  },
  {
   "cell_type": "code",
   "execution_count": 4,
   "id": "04a494ce-286d-4932-83f7-7c95bdce6ba8",
   "metadata": {},
   "outputs": [],
   "source": [
    "def getMeasure(quantumCircuit, n):\n",
    "    measures = []\n",
    "    for i in range(0,n):\n",
    "        outcome = execute(quantumCircuit, backend).result()\n",
    "        hist = outcome.get_counts()\n",
    "        for i in hist.keys():\n",
    "            measures.append(i)\n",
    "        return measures"
   ]
  },
  {
   "cell_type": "code",
   "execution_count": 5,
   "id": "6cf971e4-8a51-4a84-870b-0b633fef9fc4",
   "metadata": {},
   "outputs": [],
   "source": [
    "def makeCirc(n, state):\n",
    "    initState = state\n",
    "    print('Init state = ',initState)\n",
    "    qr = QuantumRegister(n,\"q\")\n",
    "    qc = ClassicalRegister(n, \"c\")\n",
    "    circ = QuantumCircuit(qr, qc)\n",
    "    initializedState = stateGenerator(initState)\n",
    "    circ.initialize(initializedState, qr)\n",
    "    return circ"
   ]
  },
  {
   "cell_type": "code",
   "execution_count": 6,
   "id": "6a827e2a-56ef-4a0f-b607-ec3e7d1d2b2d",
   "metadata": {},
   "outputs": [],
   "source": [
    "def getHistogram(n, circ):\n",
    "    qasm_sim = Aer.get_backend('qasm_simulator')\n",
    "    shots = n\n",
    "    qboj = assemble(circ, shots=shots)\n",
    "    results = qasm_sim.run(qboj).result()\n",
    "    counts = results.get_counts()\n",
    "    return counts"
   ]
  },
  {
   "cell_type": "markdown",
   "id": "8c26c7d5-fe25-4556-9d05-d0fbfdfe8fd6",
   "metadata": {},
   "source": [
    "## Simon Circuit"
   ]
  },
  {
   "cell_type": "code",
   "execution_count": 60,
   "id": "d7142d72-dd3d-4f99-923f-84c80790fd46",
   "metadata": {},
   "outputs": [],
   "source": [
    "def simonCircuit(b):\n",
    "    n = len(b)\n",
    "    circ = QuantumCircuit(2*n, 2*n)\n",
    "    circ.h(range(n))\n",
    "    \n",
    "    circ.barrier()\n",
    "    #circ += simon_oracle(b)\n",
    "    circ.compose(simon_oracle(b), inplace=True)\n",
    "    circ.barrier()\n",
    "    \n",
    "#     circ.measure(range(n, 2*n), range(n, 2*n))\n",
    "#     circ.barrier()\n",
    "    \n",
    "    circ.h(range(n))\n",
    "    circ.measure(range(n), range(n))\n",
    "    return circ"
   ]
  },
  {
   "cell_type": "code",
   "execution_count": 61,
   "id": "11402024-a108-44e8-b8fe-3422309e1b55",
   "metadata": {},
   "outputs": [],
   "source": [
    "b = '110'\n",
    "circuit = simonCircuit(b)\n",
    "# Secret s = 110"
   ]
  },
  {
   "cell_type": "code",
   "execution_count": 62,
   "id": "025c01d4-6e00-4a34-b41a-fa0930f18c53",
   "metadata": {},
   "outputs": [
    {
     "data": {
      "image/png": "[encoded data removed]",
      "text/plain": [
       "<Figure size 808.997x445.48 with 1 Axes>"
      ]
     },
     "metadata": {},
     "output_type": "display_data"
    }
   ],
   "source": [
    "circuit.draw();"
   ]
  },
  {
   "cell_type": "code",
   "execution_count": 63,
   "id": "2a373ffc-1dc2-485f-b1e2-2f70b105f40b",
   "metadata": {},
   "outputs": [
    {
     "data": {
      "image/png": "[encoded data removed]",
      "text/plain": [
       "<Figure size 504x360 with 1 Axes>"
      ]
     },
     "metadata": {
      "needs_background": "light"
     },
     "output_type": "display_data"
    }
   ],
   "source": [
    "w = getHistogram(1024, circuit)\n",
    "plot_histogram(w);"
   ]
  },
  {
   "cell_type": "code",
   "execution_count": 64,
   "id": "a74ac8eb-159f-483e-ac8b-a31a3743aff6",
   "metadata": {},
   "outputs": [
    {
     "name": "stdout",
     "output_type": "stream",
     "text": [
      "001\n",
      "111\n",
      "110\n",
      "000\n"
     ]
    }
   ],
   "source": [
    "for z in w:\n",
    "    print(z[3:])"
   ]
  },
  {
   "cell_type": "code",
   "execution_count": 65,
   "id": "5213c6c4-ce02-4f26-9b5f-a39f647fc747",
   "metadata": {},
   "outputs": [],
   "source": [
    "# j = 110, 000, 001, 111  => Only s = 110 such that j.s = 0\n",
    "# j = 00, 01 => Only s = 10 such that j.s = 0"
   ]
  },
  {
   "cell_type": "code",
   "execution_count": 67,
   "id": "a43ee119-c430-437b-b23b-ec82005f9f0d",
   "metadata": {},
   "outputs": [
    {
     "name": "stdout",
     "output_type": "stream",
     "text": [
      "110.001 = 0 (mod 2)\n",
      "110.111 = 0 (mod 2)\n",
      "110.110 = 0 (mod 2)\n",
      "110.000 = 0 (mod 2)\n"
     ]
    }
   ],
   "source": [
    "def bdotz(b, z):\n",
    "    accum = 0\n",
    "    for i in range(len(b)):\n",
    "        accum += int(b[i]) * int(z[i])\n",
    "    return (accum % 2)\n",
    "\n",
    "for z in w:\n",
    "    print( '{}.{} = {} (mod 2)'.format(b, z[3:], bdotz(b,z)) )"
   ]
  },
  {
   "cell_type": "code",
   "execution_count": null,
   "id": "a90aaf3c-c464-400a-89e7-26cdd3241ba6",
   "metadata": {},
   "outputs": [],
   "source": []
  }
 ],
 "metadata": {
  "kernelspec": {
   "display_name": "Python 3 (ipykernel)",
   "language": "python",
   "name": "python3"
  },
  "language_info": {
   "codemirror_mode": {
    "name": "ipython",
    "version": 3
   },
   "file_extension": ".py",
   "mimetype": "text/x-python",
   "name": "python",
   "nbconvert_exporter": "python",
   "pygments_lexer": "ipython3",
   "version": "3.8.5"
  }
 },
 "nbformat": 4,
 "nbformat_minor": 5
}

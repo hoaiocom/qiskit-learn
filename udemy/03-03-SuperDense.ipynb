{
 "cells": [
  {
   "cell_type": "markdown",
   "id": "77aa2d6f-2ec3-43fb-89ff-c3e9bd764401",
   "metadata": {},
   "source": [
    "# Superdese Coding\n"
   ]
  },
  {
   "cell_type": "code",
   "execution_count": 1,
   "id": "6acdc4dd-8d49-49b0-a277-5148bf284a09",
   "metadata": {},
   "outputs": [],
   "source": [
    "from qiskit import *\n",
    "import numpy as np\n",
    "from math import pi, sqrt\n",
    "import random\n",
    "from qiskit.visualization import plot_histogram"
   ]
  },
  {
   "cell_type": "code",
   "execution_count": 2,
   "id": "8f5c6453-c39f-40d3-81f6-65e94450c73b",
   "metadata": {},
   "outputs": [],
   "source": [
    "backend = Aer.get_backend('statevector_simulator')\n",
    "def getBloch(quantumCircuit):\n",
    "    return visualization.plot_bloch_multivector(execute(quantumCircuit, backend).result().get_statevector())"
   ]
  },
  {
   "cell_type": "code",
   "execution_count": 3,
   "id": "9019dded-0137-47cf-91d2-96f8af8274ec",
   "metadata": {},
   "outputs": [],
   "source": [
    "def stateGenerator(state):\n",
    "    state = state[::-1]\n",
    "    current = int(state, 2)\n",
    "#     print('Current state: ', current)\n",
    "    newState = [0 for i in range(0, 2**(len(state)))]\n",
    "    newState[current] = 1\n",
    "#     print('Init state array: ',newState)\n",
    "    return newState"
   ]
  },
  {
   "cell_type": "code",
   "execution_count": 4,
   "id": "04a494ce-286d-4932-83f7-7c95bdce6ba8",
   "metadata": {},
   "outputs": [],
   "source": [
    "def getMeasure(quantumCircuit, n):\n",
    "    measures = []\n",
    "    for i in range(0,n):\n",
    "        outcome = execute(quantumCircuit, backend).result()\n",
    "        hist = outcome.get_counts()\n",
    "        for i in hist.keys():\n",
    "            measures.append(i)\n",
    "        return measures"
   ]
  },
  {
   "cell_type": "code",
   "execution_count": 5,
   "id": "6cf971e4-8a51-4a84-870b-0b633fef9fc4",
   "metadata": {},
   "outputs": [],
   "source": [
    "def makeCirc(n, state):\n",
    "    initState = state\n",
    "    print('Init state = ',initState)\n",
    "    qr = QuantumRegister(n,\"q\")\n",
    "    qc = ClassicalRegister(n, \"c\")\n",
    "    circ = QuantumCircuit(qr, qc)\n",
    "    initializedState = stateGenerator(initState)\n",
    "    circ.initialize(initializedState, qr)\n",
    "    return circ"
   ]
  },
  {
   "cell_type": "code",
   "execution_count": 6,
   "id": "6a827e2a-56ef-4a0f-b607-ec3e7d1d2b2d",
   "metadata": {},
   "outputs": [],
   "source": [
    "def getHistogram(n, circ):\n",
    "    qasm_sim = Aer.get_backend('qasm_simulator')\n",
    "    shots = n\n",
    "    qboj = assemble(circ, shots=shots)\n",
    "    results = qasm_sim.run(qboj).result()\n",
    "    counts = results.get_counts()\n",
    "    return counts"
   ]
  },
  {
   "cell_type": "markdown",
   "id": "8c26c7d5-fe25-4556-9d05-d0fbfdfe8fd6",
   "metadata": {},
   "source": [
    "## Superdense"
   ]
  },
  {
   "cell_type": "code",
   "execution_count": 7,
   "id": "5d1db3c1-c522-4bd8-88b2-e46f144cf289",
   "metadata": {},
   "outputs": [],
   "source": [
    "def superDense(b):\n",
    "    circ = makeCirc(2, '00')\n",
    "    circ.h(0)\n",
    "    circ.cx(0, 1)\n",
    "    \n",
    "    circ.barrier()\n",
    "    if (b[0] == '1'):\n",
    "        circ.x(0)\n",
    "    if (b[1] == '1'):\n",
    "        circ.z(0)\n",
    "    circ.barrier()\n",
    "    # Send qubit to Bob\n",
    "    circ.cx(0, 1)\n",
    "    circ.h(0)\n",
    "    circ.barrier()\n",
    "    circ.measure(range(0,2), range(0,2))\n",
    "    return circ"
   ]
  },
  {
   "cell_type": "code",
   "execution_count": 37,
   "id": "32768d7c-abb8-4bc4-9a03-6b85a25884a2",
   "metadata": {},
   "outputs": [
    {
     "name": "stdout",
     "output_type": "stream",
     "text": [
      "Init state =  00\n"
     ]
    }
   ],
   "source": [
    "circ = superDense('11')"
   ]
  },
  {
   "cell_type": "code",
   "execution_count": 38,
   "id": "c54139a4-c77c-4722-b396-6025c569d655",
   "metadata": {},
   "outputs": [
    {
     "data": {
      "image/png": "[encoded data removed]",
      "text/plain": [
       "<Figure size 869.052x204.68 with 1 Axes>"
      ]
     },
     "metadata": {},
     "output_type": "display_data"
    }
   ],
   "source": [
    "circ.draw();"
   ]
  },
  {
   "cell_type": "code",
   "execution_count": 39,
   "id": "ac4c8ccd-e321-4707-9adb-2eeaaf962df0",
   "metadata": {},
   "outputs": [
    {
     "data": {
      "text/plain": [
       "'11'"
      ]
     },
     "execution_count": 39,
     "metadata": {},
     "output_type": "execute_result"
    }
   ],
   "source": [
    "getMeasure(circ, 1)[0]"
   ]
  },
  {
   "cell_type": "code",
   "execution_count": 40,
   "id": "abb506ee-729c-496b-84d8-5c3cee968cbe",
   "metadata": {},
   "outputs": [
    {
     "data": {
      "image/png": "[encoded data removed]",
      "text/plain": [
       "<Figure size 504x360 with 1 Axes>"
      ]
     },
     "metadata": {
      "needs_background": "light"
     },
     "output_type": "display_data"
    }
   ],
   "source": [
    "plot_histogram(getHistogram(1024, circ));"
   ]
  },
  {
   "cell_type": "code",
   "execution_count": null,
   "id": "dc1cf0a5-286d-4345-ab14-e3dc6c4e7c97",
   "metadata": {},
   "outputs": [],
   "source": []
  }
 ],
 "metadata": {
  "kernelspec": {
   "display_name": "Python 3 (ipykernel)",
   "language": "python",
   "name": "python3"
  },
  "language_info": {
   "codemirror_mode": {
    "name": "ipython",
    "version": 3
   },
   "file_extension": ".py",
   "mimetype": "text/x-python",
   "name": "python",
   "nbconvert_exporter": "python",
   "pygments_lexer": "ipython3",
   "version": "3.8.5"
  }
 },
 "nbformat": 4,
 "nbformat_minor": 5
}
